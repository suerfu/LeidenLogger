{
 "cells": [
  {
   "cell_type": "code",
   "execution_count": 68,
   "metadata": {},
   "outputs": [],
   "source": [
    "import serial\n",
    "\n",
    "class LakeShoreLogger(object):\n",
    "    # Baudrate: 57600\n",
    "    # Data bit: 7\n",
    "    # Start bit: 1\n",
    "    # Stop bit: 1\n",
    "    # Parity: odd\n",
    "    \n",
    "    def __init__(self, port):\n",
    "        try:\n",
    "            self.connection = serial.Serial(port = port,\n",
    "                                            baudrate = 57600,\n",
    "                                            bytesize = 7,\n",
    "                                            parity = 'O',\n",
    "                                            stopbits = 1,\n",
    "                                            timeout = 0.1 )\n",
    "        except serial.SerialException:\n",
    "            print('Serial port not found.')\n",
    "        else:\n",
    "            print('Opened serial port.')\n",
    "            \n",
    "    def open(self):\n",
    "        return self.connection.is_open"
   ]
  },
  {
   "cell_type": "code",
   "execution_count": 72,
   "metadata": {},
   "outputs": [
    {
     "ename": "UnicodeDecodeError",
     "evalue": "'ascii' codec can't decode byte 0xb0 in position 0: ordinal not in range(128)",
     "output_type": "error",
     "traceback": [
      "\u001b[0;31m---------------------------------------------------------------------------\u001b[0m",
      "\u001b[0;31mUnicodeDecodeError\u001b[0m                        Traceback (most recent call last)",
      "\u001b[0;32m<ipython-input-72-856d4538d039>\u001b[0m in \u001b[0;36m<module>\u001b[0;34m\u001b[0m\n\u001b[1;32m      3\u001b[0m \u001b[0;31m#print(b'abcd'.hex())\u001b[0m\u001b[0;34m\u001b[0m\u001b[0;34m\u001b[0m\u001b[0;34m\u001b[0m\u001b[0m\n\u001b[1;32m      4\u001b[0m \u001b[0mstring\u001b[0m \u001b[0;34m=\u001b[0m \u001b[0;34mb'\\xb0\\xb6,\\xb0\\r\\x8a'\u001b[0m\u001b[0;34m\u001b[0m\u001b[0;34m\u001b[0m\u001b[0m\n\u001b[0;32m----> 5\u001b[0;31m \u001b[0mstring\u001b[0m\u001b[0;34m.\u001b[0m\u001b[0mdecode\u001b[0m\u001b[0;34m(\u001b[0m\u001b[0;34m'ascii'\u001b[0m\u001b[0;34m)\u001b[0m\u001b[0;34m\u001b[0m\u001b[0;34m\u001b[0m\u001b[0m\n\u001b[0m",
      "\u001b[0;31mUnicodeDecodeError\u001b[0m: 'ascii' codec can't decode byte 0xb0 in position 0: ordinal not in range(128)"
     ]
    }
   ],
   "source": [
    "#logger = LakeShoreLogger('/dev/ttyUSB0')\n",
    "\n",
    "#print(b'abcd'.hex())\n",
    "string = b'\\xb0\\xb6,\\xb0\\r\\x8a'\n",
    "string.decode('ascii')"
   ]
  },
  {
   "cell_type": "code",
   "execution_count": 75,
   "metadata": {},
   "outputs": [
    {
     "data": {
      "text/plain": [
       "'xb0.000000'"
      ]
     },
     "execution_count": 75,
     "metadata": {},
     "output_type": "execute_result"
    }
   ],
   "source": [
    "s = str(b'\\xab\\xb0\\xae\\xb0\\xb0\\xb0\\xb0\\xb0E\\xab\\xb0\\xb0\\r\\x8a')\n",
    "s = s[:-8]\n",
    "s = s[7:]\n",
    "s.replace('\\\\xb', '').replace('\\\\xae', '.').replace('E', '').replace('\\\\xab', '').replace('\\\\xad03','')"
   ]
  },
  {
   "cell_type": "code",
   "execution_count": null,
   "metadata": {},
   "outputs": [],
   "source": [
    "10000000 1\n",
    "Ascii + parity\n",
    "\n",
    "100000001\n",
    "Ascii + no parity\n",
    "\n",
    ".  ascii + 1,\n",
    "ascii + 0 => ascii value < 128\n",
    "ascii + 1 => value > 128,\n",
    "10000001 => 1000000 0"
   ]
  }
 ],
 "metadata": {
  "kernelspec": {
   "display_name": "Python 3",
   "language": "python",
   "name": "python3"
  },
  "language_info": {
   "codemirror_mode": {
    "name": "ipython",
    "version": 3
   },
   "file_extension": ".py",
   "mimetype": "text/x-python",
   "name": "python",
   "nbconvert_exporter": "python",
   "pygments_lexer": "ipython3",
   "version": "3.8.5"
  }
 },
 "nbformat": 4,
 "nbformat_minor": 4
}
